{
 "cells": [
  {
   "cell_type": "code",
   "execution_count": null,
   "id": "4c55183d",
   "metadata": {},
   "outputs": [],
   "source": [
    "\n",
    " #load json and create model\n",
    "    \n",
    "json_file = open('EvenOddmodel.json', 'r')\n",
    "loaded_model_json = json_file.read()\n",
    "json_file.close()\n",
    "loaded_model = model_from_json(loaded_model_json)\n",
    " #load weights into new model\n",
    "loaded_model.load_weights(\"EvenOddmodel.h5\")\n",
    "print(\"Loaded model from disk\")"
   ]
  }
 ],
 "metadata": {
  "kernelspec": {
   "display_name": "Python 3 (ipykernel)",
   "language": "python",
   "name": "python3"
  },
  "language_info": {
   "codemirror_mode": {
    "name": "ipython",
    "version": 3
   },
   "file_extension": ".py",
   "mimetype": "text/x-python",
   "name": "python",
   "nbconvert_exporter": "python",
   "pygments_lexer": "ipython3",
   "version": "3.9.13"
  }
 },
 "nbformat": 4,
 "nbformat_minor": 5
}

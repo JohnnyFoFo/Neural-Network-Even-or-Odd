{
 "cells": [
  {
   "cell_type": "markdown",
   "id": "cb283d73",
   "metadata": {},
   "source": [
    "# Over-Engineering a Simple Problem: Even or Odd"
   ]
  },
  {
   "cell_type": "markdown",
   "id": "f632c535",
   "metadata": {},
   "source": [
    "Created on November 12th, 2022"
   ]
  },
  {
   "cell_type": "markdown",
   "id": "3b32219e",
   "metadata": {},
   "source": [
    "## Importing libraries and creating data"
   ]
  },
  {
   "cell_type": "code",
   "execution_count": 1,
   "id": "8a9b7fed",
   "metadata": {},
   "outputs": [
    {
     "name": "stderr",
     "output_type": "stream",
     "text": [
      "2023-02-04 16:08:50.718991: I tensorflow/core/platform/cpu_feature_guard.cc:193] This TensorFlow binary is optimized with oneAPI Deep Neural Network Library (oneDNN) to use the following CPU instructions in performance-critical operations:  AVX2 FMA\n",
      "To enable them in other operations, rebuild TensorFlow with the appropriate compiler flags.\n"
     ]
    }
   ],
   "source": [
    "import tensorflow as tf\n",
    "from tensorflow import keras\n",
    "from tensorflow.keras import layers\n",
    "from sklearn.model_selection import train_test_split\n",
    "import numpy as np\n",
    "import pandas as pd\n",
    "from keras.models import Sequential\n",
    "from keras.layers import Dense, Dropout, Activation, LeakyReLU, Flatten\n",
    "from keras.metrics import AUC,BinaryCrossentropy\n",
    "from keras import backend as K\n",
    "from keras.datasets import mnist\n",
    "import pandas as pd\n",
    "import numpy as np\n",
    "import matplotlib.pyplot as plt\n",
    "\n",
    "\n",
    "X_data = [[0]]*256\n",
    "y_data = [None]*256\n",
    "\n",
    "\n",
    "\n",
    "\n"
   ]
  },
  {
   "cell_type": "markdown",
   "id": "9574cfa2",
   "metadata": {},
   "source": [
    "## Preprocessing the Data( into binary ) as well as Storing Data in Numpy Array"
   ]
  },
  {
   "cell_type": "code",
   "execution_count": 2,
   "id": "28ac8bf2",
   "metadata": {},
   "outputs": [],
   "source": [
    "for i in range(256):\n",
    "    binary = str(bin(i))\n",
    "    binary = binary[2:]\n",
    "    binary = list(binary)\n",
    "    for x in  range(len(binary)): \n",
    "        binary[x] = int(binary[x])\n",
    "        \n",
    "    if len(binary) <  8:\n",
    "        while len(binary) != 8:\n",
    "            binary.insert(0,0)\n",
    "          \n",
    "    X_data[i] = binary\n",
    "    y_data[i] = 0 if i%2==0 else 1\n",
    "\n",
    "    \n",
    "\n",
    "X = np.array(X_data)\n",
    "\n",
    "\n",
    "y = np.array(y_data)\n"
   ]
  },
  {
   "cell_type": "markdown",
   "id": "333f1a2d",
   "metadata": {},
   "source": [
    "## Splittin the Data into Training and Testing"
   ]
  },
  {
   "cell_type": "code",
   "execution_count": 3,
   "id": "47f58f44",
   "metadata": {},
   "outputs": [],
   "source": [
    "X_train, X_test, y_train, y_test = train_test_split( X, y, test_size=0.33, random_state=42)"
   ]
  },
  {
   "cell_type": "markdown",
   "id": "c31ef2c8",
   "metadata": {},
   "source": [
    "## Making and Compiling the Model"
   ]
  },
  {
   "cell_type": "code",
   "execution_count": 4,
   "id": "252286d2",
   "metadata": {},
   "outputs": [
    {
     "name": "stderr",
     "output_type": "stream",
     "text": [
      "2023-02-04 16:09:12.042893: I tensorflow/core/platform/cpu_feature_guard.cc:193] This TensorFlow binary is optimized with oneAPI Deep Neural Network Library (oneDNN) to use the following CPU instructions in performance-critical operations:  AVX2 FMA\n",
      "To enable them in other operations, rebuild TensorFlow with the appropriate compiler flags.\n"
     ]
    }
   ],
   "source": [
    "Model = Sequential()\n",
    "Model.add(Dense(128, input_shape=(8,),activation='relu' ))\n",
    "Model.add(Dropout(0.2))\n",
    "Model.add(Dense(32, activation='relu'))\n",
    "Model.add(Dense(1, activation='sigmoid'))\n",
    "    \n",
    "Model.compile(\n",
    "    loss='BinaryCrossentropy',\n",
    "    optimizer='adam',\n",
    "    metrics=['accuracy'])"
   ]
  },
  {
   "cell_type": "markdown",
   "id": "0e9dcf06",
   "metadata": {},
   "source": [
    "## Graphing the Model Summary and Accuracy vs Epochs"
   ]
  },
  {
   "cell_type": "code",
   "execution_count": 5,
   "id": "fb2953f2",
   "metadata": {},
   "outputs": [
    {
     "name": "stdout",
     "output_type": "stream",
     "text": [
      "Model: \"sequential\"\n",
      "_________________________________________________________________\n",
      " Layer (type)                Output Shape              Param #   \n",
      "=================================================================\n",
      " dense (Dense)               (None, 128)               1152      \n",
      "                                                                 \n",
      " dropout (Dropout)           (None, 128)               0         \n",
      "                                                                 \n",
      " dense_1 (Dense)             (None, 32)                4128      \n",
      "                                                                 \n",
      " dense_2 (Dense)             (None, 1)                 33        \n",
      "                                                                 \n",
      "=================================================================\n",
      "Total params: 5,313\n",
      "Trainable params: 5,313\n",
      "Non-trainable params: 0\n",
      "_________________________________________________________________\n",
      "Epoch 1/7\n",
      "6/6 [==============================] - 1s 5ms/step - loss: 0.6913 - accuracy: 0.5380\n",
      "Epoch 2/7\n",
      "6/6 [==============================] - 0s 4ms/step - loss: 0.6513 - accuracy: 0.6316\n",
      "Epoch 3/7\n",
      "6/6 [==============================] - 0s 4ms/step - loss: 0.6100 - accuracy: 0.7368\n",
      "Epoch 4/7\n",
      "6/6 [==============================] - 0s 5ms/step - loss: 0.5608 - accuracy: 0.8713\n",
      "Epoch 5/7\n",
      "6/6 [==============================] - 0s 5ms/step - loss: 0.5238 - accuracy: 0.9532\n",
      "Epoch 6/7\n",
      "6/6 [==============================] - 0s 5ms/step - loss: 0.4646 - accuracy: 0.9883\n",
      "Epoch 7/7\n",
      "6/6 [==============================] - 0s 5ms/step - loss: 0.4208 - accuracy: 0.9942\n"
     ]
    },
    {
     "data": {
      "image/png": "[encoded data removed]",
      "text/plain": [
       "<Figure size 640x480 with 1 Axes>"
      ]
     },
     "metadata": {},
     "output_type": "display_data"
    }
   ],
   "source": [
    "\n",
    "Model.summary()\n",
    "\n",
    "\n",
    "Results= Model.fit(X_train, y_train, epochs=7)\n",
    "\n",
    "plt.plot(Results.history['accuracy'])\n",
    "\n",
    "plt.title('Model Accuracy')\n",
    "plt.ylabel('Accuracy')\n",
    "plt.xlabel('Epoch')\n",
    "plt.legend(['Train'], loc='upper left')\n",
    "plt.show()\n"
   ]
  },
  {
   "cell_type": "markdown",
   "id": "117c9422",
   "metadata": {},
   "source": [
    "## Testing the Model on the Training Data"
   ]
  },
  {
   "cell_type": "code",
   "execution_count": 6,
   "id": "568ef83c",
   "metadata": {},
   "outputs": [
    {
     "name": "stdout",
     "output_type": "stream",
     "text": [
      "3/3 [==============================] - 0s 5ms/step - loss: 0.3653 - accuracy: 1.0000\n"
     ]
    },
    {
     "data": {
      "text/plain": [
       "[0.3652524948120117, 1.0]"
      ]
     },
     "execution_count": 6,
     "metadata": {},
     "output_type": "execute_result"
    }
   ],
   "source": [
    "\n",
    "Model.evaluate(X_test,y_test)"
   ]
  },
  {
   "cell_type": "markdown",
   "id": "7f4fec83",
   "metadata": {},
   "source": [
    "## Saving the Model to a fileto reuse"
   ]
  },
  {
   "cell_type": "code",
   "execution_count": null,
   "id": "7b5afc95",
   "metadata": {},
   "outputs": [],
   "source": []
  }
 ],
 "metadata": {
  "kernelspec": {
   "display_name": "Python 3 (ipykernel)",
   "language": "python",
   "name": "python3"
  },
  "language_info": {
   "codemirror_mode": {
    "name": "ipython",
    "version": 3
   },
   "file_extension": ".py",
   "mimetype": "text/x-python",
   "name": "python",
   "nbconvert_exporter": "python",
   "pygments_lexer": "ipython3",
   "version": "3.9.13"
  }
 },
 "nbformat": 4,
 "nbformat_minor": 5
}
